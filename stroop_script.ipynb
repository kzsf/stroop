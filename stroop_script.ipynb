{
 "cells": [
  {
   "cell_type": "markdown",
   "metadata": {},
   "source": [
    "Read in stroop data, starting from \"before\" run, compile all data into one for each subject (each sheet). Remove unnecessary outputs such as labels other than the column names. Count and remove missing inputs and errors (double entries). Calculate overall time mean and median. Calculate standard deviation and 4 standard deviations to find outliers (4 SD from mean). Calculate each of the stroop conditions means, medians, SDs. "
   ]
  },
  {
   "cell_type": "code",
   "execution_count": 6,
   "metadata": {},
   "outputs": [],
   "source": [
    "import numpy as np\n",
    "import pandas as pd\n",
    "import warnings\n",
    "warnings.filterwarnings(\"ignore\", category=UserWarning, module=\"openpyxl\")\n",
    "\n",
    "#read in excel spreadsheet\n",
    "path = '/Users/kjung6/Eva/Stroop/hivpd23/copy/HIVPD23_SMtS_behav.xlsx'\n",
    "sheets = pd.read_excel(path, sheet_name=None, header=None)\n",
    "output_path = '/Users/kjung6/Eva/Stroop/filtered_sheets.xlsx'"
   ]
  },
  {
   "cell_type": "code",
   "execution_count": 12,
   "metadata": {},
   "outputs": [],
   "source": [
    "#define the values we want in column E (index 4)\n",
    "valid_values = ['conM', 'conMNM', 'conNM', 'incM', 'incMNM', 'incNM']#, 'EventTag']\n",
    "\n",
    "filtered_sheets = {}\n",
    "\n",
    "\n",
    "#loop over each sheet and filter data based on valid values in column E\n",
    "for sheet_name, sheet_data in sheets.items():\n",
    "    #filter the sheet based on the values in column E (index 4)\n",
    "    filtered_data = sheet_data[sheet_data.iloc[:, 4].isin(valid_values)]\n",
    "    filtered_data = filtered_data.iloc[:, :9]\n",
    "    filtered_data.columns = ['Trial', 'RunLabel', 'Condition', 'trial start', 'EventTag', 'Time', 'keys', 'sequence', 'mouse_down']\n",
    "    filtered_sheets[sheet_name] = filtered_data\n",
    "\n",
    "\n",
    "for sheet_name, sheet_data in filtered_sheets.items():\n",
    "    #drop duplicates to get rid of extra colnames\n",
    "    sheet_data = sheet_data.drop_duplicates()\n",
    "    #update the filtered_sheets with the cleaned data\n",
    "    filtered_sheets[sheet_name] = sheet_data\n",
    "\n",
    "#write out to excel\n",
    "with pd.ExcelWriter(output_path, engine='xlsxwriter') as writer:\n",
    "    for sheet_name, filtered_data in filtered_sheets.items():\n",
    "        filtered_data.to_excel(writer, sheet_name=sheet_name, index=False)\n",
    "\n",
    "\n"
   ]
  }
 ],
 "metadata": {
  "kernelspec": {
   "display_name": "venv",
   "language": "python",
   "name": "python3"
  },
  "language_info": {
   "codemirror_mode": {
    "name": "ipython",
    "version": 3
   },
   "file_extension": ".py",
   "mimetype": "text/x-python",
   "name": "python",
   "nbconvert_exporter": "python",
   "pygments_lexer": "ipython3",
   "version": "3.12.5"
  }
 },
 "nbformat": 4,
 "nbformat_minor": 2
}
